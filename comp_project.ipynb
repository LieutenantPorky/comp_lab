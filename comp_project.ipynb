{
 "cells": [
  {
   "cell_type": "markdown",
   "metadata": {},
   "source": [
    "# Title"
   ]
  },
  {
   "cell_type": "markdown",
   "metadata": {},
   "source": [
    "### Why do we need an intro.jpg"
   ]
  },
  {
   "cell_type": "code",
   "execution_count": 1,
   "metadata": {},
   "outputs": [],
   "source": [
    "import numpy as np\n",
    "import matplotlib.pyplot as plt"
   ]
  },
  {
   "cell_type": "code",
   "execution_count": 34,
   "metadata": {},
   "outputs": [
    {
     "data": {
      "image/png": "[encoded data removed]",
      "text/plain": [
       "<matplotlib.figure.Figure at 0x51b5990>"
      ]
     },
     "metadata": {
      "needs_background": "light"
     },
     "output_type": "display_data"
    }
   ],
   "source": [
    "#This function returns the population growth function for a given \"a\" value\n",
    "def getPopFunction(a):\n",
    "    return lambda n : a * n * (1 - n)\n",
    "\n",
    "#Determine the convergence of a certain population function after an arbitrary number of iterations:\n",
    "\n",
    "def getConvergence(initial, popFunction, iterations):\n",
    "    for i in range(0,iterations):\n",
    "        initial = popFunction(initial)\n",
    "    return initial\n",
    "\n",
    "#Initialize a population with a random size, and iterate with a = 1 to find the convergence (with 100 iterations)\n",
    "\n",
    "def randomCurve(a, iterations):\n",
    "    return [a, getConvergence(np.random.random(),getPopFunction(a), iterations)]\n",
    "\n",
    "#Obtain an array of 50 such values\n",
    "\n",
    "results = [randomCurve(1,100) for i in range(0,50)]\n",
    "#print(results)\n",
    "\n",
    "#now, do the same but iterating through 2000 values of a in [1.5,4]\n",
    "aSweep = [[randomCurve(a,100) for i in range(0,50)] for a in np.linspace(1.5,4,2000)]\n",
    "\n",
    "ax = plt.subplot(111)\n",
    "ax.plot([[j[0] for j in i] for i in aSweep], [[j[1] for j in i] for i in aSweep],'b')\n",
    "plt.show()"
   ]
  },
  {
   "cell_type": "code",
   "execution_count": 39,
   "metadata": {},
   "outputs": [
    {
     "data": {
      "image/png": "[encoded data removed]",
      "text/plain": [
       "<matplotlib.figure.Figure at 0x705de10>"
      ]
     },
     "metadata": {
      "needs_background": "light"
     },
     "output_type": "display_data"
    }
   ],
   "source": [
    "#Same as above, but for a in [3,4] and [3.5,3.8]\n",
    "aSweep = [[randomCurve(a,100) for i in range(0,50)] for a in np.linspace(3,4,2000)]\n",
    "\n",
    "ax1 = plt.subplot(211)\n",
    "ax1.set_ylim(0,1)\n",
    "ax1.plot([[j[0] for j in i] for i in aSweep], [[j[1] for j in i] for i in aSweep],'b')\n",
    "\n",
    "aSweep = [[randomCurve(a,100) for i in range(0,50)] for a in np.linspace(3.5,3.8,2000)]\n",
    "\n",
    "ax2 = plt.subplot(212)\n",
    "ax2.set_ylim(0,1)\n",
    "ax2.plot([[j[0] for j in i] for i in aSweep], [[j[1] for j in i] for i in aSweep],'b')\n",
    "\n",
    "plt.show()"
   ]
  },
  {
   "cell_type": "markdown",
   "metadata": {},
   "source": [
    "### Part 2 - montecarlo integration"
   ]
  },
  {
   "cell_type": "code",
   "execution_count": 52,
   "metadata": {},
   "outputs": [
    {
     "name": "stdout",
     "output_type": "stream",
     "text": [
      "0.0\n",
      "1.0\n",
      "2.0\n",
      "3.0\n",
      "4.0\n",
      "5.0\n",
      "6.0\n",
      "7.0\n",
      "8.0\n",
      "9.0\n",
      "10.0\n",
      "11.0\n",
      "12.0\n",
      "13.0\n",
      "14.0\n",
      "15.0\n",
      "16.0\n",
      "17.0\n",
      "18.0\n",
      "19.0\n",
      "20.0\n",
      "21.0\n",
      "22.0\n",
      "23.0\n",
      "24.0\n",
      "25.0\n",
      "26.0\n",
      "27.0\n",
      "28.0\n",
      "29.0\n",
      "30.0\n",
      "31.0\n",
      "32.0\n",
      "33.0\n",
      "34.0\n",
      "35.0\n",
      "36.0\n",
      "37.0\n",
      "38.0\n",
      "39.0\n",
      "40.0\n",
      "41.0\n",
      "42.0\n",
      "43.0\n",
      "44.0\n",
      "45.0\n",
      "46.0\n",
      "47.0\n",
      "48.0\n",
      "49.0\n",
      "50.0\n",
      "51.0\n",
      "52.0\n",
      "53.0\n",
      "54.0\n",
      "55.0\n",
      "56.0\n",
      "57.0\n",
      "58.0\n",
      "59.0\n",
      "60.0\n",
      "61.0\n",
      "62.0\n",
      "63.0\n",
      "64.0\n",
      "65.0\n",
      "66.0\n",
      "67.0\n",
      "68.0\n",
      "69.0\n",
      "70.0\n",
      "71.0\n",
      "72.0\n",
      "73.0\n",
      "74.0\n",
      "75.0\n",
      "76.0\n",
      "77.0\n",
      "78.0\n",
      "79.0\n",
      "80.0\n",
      "81.0\n",
      "82.0\n",
      "83.0\n",
      "84.0\n",
      "85.0\n",
      "86.0\n",
      "87.0\n",
      "88.0\n",
      "89.0\n",
      "90.0\n",
      "91.0\n",
      "92.0\n",
      "93.0\n",
      "94.0\n",
      "95.0\n",
      "96.0\n",
      "97.0\n",
      "98.0\n",
      "99.0\n"
     ]
    },
    {
     "data": {
      "text/plain": [
       "1.5707963267948966"
      ]
     },
     "execution_count": 52,
     "metadata": {},
     "output_type": "execute_result"
    }
   ],
   "source": [
    "def montecarloIntegrate(function, bounds):\n",
    "    #First thing we need to do is find the bounding box of the function - we know that sin^4 is bounded by [0,1], but\n",
    "    #arbitrarily choosing these values is not very generalizable (also it's cheating -_-)\n",
    "    \n",
    "    testSeq = [function(i) for i in np.linspace(bounds[0], bounds[1], 200)]\n",
    "    \n",
    "    #find the global maxima and minima of the function\n",
    "    gMax = np.amax(testSeq)\n",
    "    gMin = np.amin(testSeq)\n",
    "    diff = gMax - gMin\n",
    "\n",
    "    # now we have the vertical bounds - we just need to create a bunch of random points in the area and check whether\n",
    "    #they are smaller than the function\n",
    "    \n",
    "    #However, to do this\n",
    "    \n",
    "    iterations = 100\n",
    "    numInside = 0.0\n",
    "    \n",
    "    ax1 = plt.subplot(111)\n",
    "    \n",
    "    for x,y in zip(np.random.random(iterations) * (bounds[1] - bounds[0]) + bounds[0], np.random.random(iterations) * diff + gMax):\n",
    "        value = function(x)            \n",
    "        #Firstly, the point must have the same sign as the function to be under the curve:\n",
    "        if (value * y >= 0):\n",
    "            # if it has the same sign, check whether it is under the curve\n",
    "            if (np.abs(value) < np.abs(y)):\n",
    "                #Now, if the value is negative, subtract a point from the total. Else, add a point\n",
    "                if value < 0:\n",
    "                    numInside -= 1\n",
    "                else:\n",
    "                    numInside += 1\n",
    "            else:\n",
    "                ax1.plot(x,y,)\n",
    "    \n",
    "    # Now, find ratio of points inside and outside the bounds, and multiply by total area:\n",
    "    \n",
    "    return numInside / iterations * diff * (bounds[1] - bounds[0])\n",
    "\n",
    "montecarloIntegrate(lambda x : np.sin(x) ** 4, [0.0, 0.5 * np.pi])"
   ]
  }
 ],
 "metadata": {
  "kernelspec": {
   "display_name": "Python 2",
   "language": "python",
   "name": "python2"
  },
  "language_info": {
   "codemirror_mode": {
    "name": "ipython",
    "version": 2
   },
   "file_extension": ".py",
   "mimetype": "text/x-python",
   "name": "python",
   "nbconvert_exporter": "python",
   "pygments_lexer": "ipython2",
   "version": "2.7.5"
  }
 },
 "nbformat": 4,
 "nbformat_minor": 2
}
